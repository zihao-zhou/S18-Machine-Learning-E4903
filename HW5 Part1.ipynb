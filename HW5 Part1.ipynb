{
 "cells": [
  {
   "cell_type": "code",
   "execution_count": 5,
   "metadata": {
    "collapsed": false
   },
   "outputs": [
    {
     "name": "stdout",
     "output_type": "stream",
     "text": [
      "(4200, 4)\n"
     ]
    },
    {
     "data": {
      "text/plain": [
       "763"
      ]
     },
     "execution_count": 5,
     "metadata": {},
     "output_type": "execute_result"
    }
   ],
   "source": [
    "import numpy as np\n",
    "import heapq\n",
    "import pandas as pd\n",
    "import matplotlib.pyplot as plt\n",
    "\n",
    "\n",
    "data = np.loadtxt(\"CFB2017_scores.csv\", delimiter = ',', dtype = int)\n",
    "print(data.shape)\n",
    "teams = []\n",
    "with open('TeamNames.txt') as file:\n",
    "    lines = file.readlines()\n",
    "    for i in range(len(lines)):\n",
    "        teams.append(lines[i][:-1])\n",
    "len(teams)"
   ]
  },
  {
   "cell_type": "code",
   "execution_count": 2,
   "metadata": {
    "collapsed": false
   },
   "outputs": [
    {
     "data": {
      "text/plain": [
       "array([[ 0.28797319,  0.        ,  0.        , ...,  0.        ,\n",
       "         0.        ,  0.        ],\n",
       "       [ 0.        ,  0.3956207 ,  0.        , ...,  0.        ,\n",
       "         0.        ,  0.        ],\n",
       "       [ 0.        ,  0.        ,  0.50994756, ...,  0.        ,\n",
       "         0.        ,  0.        ],\n",
       "       ..., \n",
       "       [ 0.        ,  0.        ,  0.        , ...,  0.58901975,\n",
       "         0.        ,  0.        ],\n",
       "       [ 0.        ,  0.        ,  0.        , ...,  0.        ,\n",
       "         0.81162167,  0.        ],\n",
       "       [ 0.        ,  0.        ,  0.        , ...,  0.        ,\n",
       "         0.        ,  0.56839673]])"
      ]
     },
     "execution_count": 2,
     "metadata": {},
     "output_type": "execute_result"
    }
   ],
   "source": [
    "# question a\n",
    "M = np.zeros((763, 763))\n",
    "for line in data:\n",
    "    M[line[0] - 1][line[0] - 1] += line[1] / (line[1] + line[3]) + int(line[1] > line[3])\n",
    "    M[line[2] - 1][line[2] - 1] += line[3] / (line[1] + line[3]) + int(line[1] < line[3])\n",
    "    M[line[0] - 1][line[2] - 1] += line[3] / (line[1] + line[3]) + int(line[1] < line[3])\n",
    "    M[line[2] - 1][line[0] - 1] += line[1] / (line[1] + line[3]) + int(line[1] > line[3])\n",
    "M /= M.sum(axis = 1).reshape(1,-1).T\n",
    "M"
   ]
  },
  {
   "cell_type": "code",
   "execution_count": 4,
   "metadata": {
    "collapsed": false
   },
   "outputs": [],
   "source": [
    "\n",
    "w0 = np.zeros((1, 763)) + 1 / 763\n",
    "w = w0\n",
    "w1 = w.dot(M)"
   ]
  },
  {
   "cell_type": "code",
   "execution_count": 6,
   "metadata": {
    "collapsed": false
   },
   "outputs": [],
   "source": [
    "def nlarge(w, n):\n",
    "    top = []\n",
    "    res = heapq.nlargest(n, range(len(w[0])), w[0].take)\n",
    "    for i in res:\n",
    "        top.append(teams[i])\n",
    "    return top\n",
    "\n",
    "def iterate(w0, n, M):\n",
    "    for i in range(n):\n",
    "        w0 = w0.dot(M)\n",
    "    return w0"
   ]
  },
  {
   "cell_type": "code",
   "execution_count": 8,
   "metadata": {
    "collapsed": false
   },
   "outputs": [],
   "source": [
    "top_teams = []\n",
    "for n in [10, 100, 1000, 10000]:\n",
    "    w = iterate(w0, n, M)\n",
    "    top_teams.append(nlarge(w, 25))\n"
   ]
  },
  {
   "cell_type": "code",
   "execution_count": 9,
   "metadata": {
    "collapsed": false,
    "scrolled": true
   },
   "outputs": [
    {
     "data": {
      "text/html": [
       "<div>\n",
       "<style scoped>\n",
       "    .dataframe tbody tr th:only-of-type {\n",
       "        vertical-align: middle;\n",
       "    }\n",
       "\n",
       "    .dataframe tbody tr th {\n",
       "        vertical-align: top;\n",
       "    }\n",
       "\n",
       "    .dataframe thead th {\n",
       "        text-align: right;\n",
       "    }\n",
       "</style>\n",
       "<table border=\"1\" class=\"dataframe\">\n",
       "  <thead>\n",
       "    <tr style=\"text-align: right;\">\n",
       "      <th></th>\n",
       "      <th>10</th>\n",
       "      <th>100</th>\n",
       "      <th>1000</th>\n",
       "      <th>10000</th>\n",
       "    </tr>\n",
       "  </thead>\n",
       "  <tbody>\n",
       "    <tr>\n",
       "      <th>0</th>\n",
       "      <td>MountUnion</td>\n",
       "      <td>MountUnion</td>\n",
       "      <td>Alabama</td>\n",
       "      <td>Alabama</td>\n",
       "    </tr>\n",
       "    <tr>\n",
       "      <th>1</th>\n",
       "      <td>MaryHardin-Baylor</td>\n",
       "      <td>Alabama</td>\n",
       "      <td>Georgia</td>\n",
       "      <td>Georgia</td>\n",
       "    </tr>\n",
       "    <tr>\n",
       "      <th>2</th>\n",
       "      <td>StFrancisIN</td>\n",
       "      <td>Georgia</td>\n",
       "      <td>MountUnion</td>\n",
       "      <td>OhioState</td>\n",
       "    </tr>\n",
       "    <tr>\n",
       "      <th>3</th>\n",
       "      <td>UW-Oshkosh</td>\n",
       "      <td>UW-Oshkosh</td>\n",
       "      <td>OhioState</td>\n",
       "      <td>Clemson</td>\n",
       "    </tr>\n",
       "    <tr>\n",
       "      <th>4</th>\n",
       "      <td>TAMU-Commerce</td>\n",
       "      <td>OhioState</td>\n",
       "      <td>Clemson</td>\n",
       "      <td>Oklahoma</td>\n",
       "    </tr>\n",
       "    <tr>\n",
       "      <th>5</th>\n",
       "      <td>BrockportSt</td>\n",
       "      <td>Clemson</td>\n",
       "      <td>Oklahoma</td>\n",
       "      <td>Wisconsin</td>\n",
       "    </tr>\n",
       "    <tr>\n",
       "      <th>6</th>\n",
       "      <td>NorthDakotaSt</td>\n",
       "      <td>Oklahoma</td>\n",
       "      <td>Wisconsin</td>\n",
       "      <td>CentralFlorida</td>\n",
       "    </tr>\n",
       "    <tr>\n",
       "      <th>7</th>\n",
       "      <td>Alabama</td>\n",
       "      <td>Wisconsin</td>\n",
       "      <td>CentralFlorida</td>\n",
       "      <td>Auburn</td>\n",
       "    </tr>\n",
       "    <tr>\n",
       "      <th>8</th>\n",
       "      <td>Morningside</td>\n",
       "      <td>CentralFlorida</td>\n",
       "      <td>Auburn</td>\n",
       "      <td>PennState</td>\n",
       "    </tr>\n",
       "    <tr>\n",
       "      <th>9</th>\n",
       "      <td>Georgia</td>\n",
       "      <td>MaryHardin-Baylor</td>\n",
       "      <td>PennState</td>\n",
       "      <td>NotreDame</td>\n",
       "    </tr>\n",
       "    <tr>\n",
       "      <th>10</th>\n",
       "      <td>JamesMadison</td>\n",
       "      <td>TAMU-Commerce</td>\n",
       "      <td>NotreDame</td>\n",
       "      <td>TCU</td>\n",
       "    </tr>\n",
       "    <tr>\n",
       "      <th>11</th>\n",
       "      <td>DelawareValley</td>\n",
       "      <td>Auburn</td>\n",
       "      <td>TCU</td>\n",
       "      <td>MiamiFL</td>\n",
       "    </tr>\n",
       "    <tr>\n",
       "      <th>12</th>\n",
       "      <td>Wartburg</td>\n",
       "      <td>StFrancisIN</td>\n",
       "      <td>MiamiFL</td>\n",
       "      <td>MichiganSt</td>\n",
       "    </tr>\n",
       "    <tr>\n",
       "      <th>13</th>\n",
       "      <td>IndianaPA</td>\n",
       "      <td>PennState</td>\n",
       "      <td>MichiganSt</td>\n",
       "      <td>OklahomaSt</td>\n",
       "    </tr>\n",
       "    <tr>\n",
       "      <th>14</th>\n",
       "      <td>Clemson</td>\n",
       "      <td>BrockportSt</td>\n",
       "      <td>OklahomaSt</td>\n",
       "      <td>Iowa</td>\n",
       "    </tr>\n",
       "    <tr>\n",
       "      <th>15</th>\n",
       "      <td>MinnSt-Mankato</td>\n",
       "      <td>NotreDame</td>\n",
       "      <td>Iowa</td>\n",
       "      <td>Northwestern</td>\n",
       "    </tr>\n",
       "    <tr>\n",
       "      <th>16</th>\n",
       "      <td>CentralFlorida</td>\n",
       "      <td>DelawareValley</td>\n",
       "      <td>Northwestern</td>\n",
       "      <td>IowaSt</td>\n",
       "    </tr>\n",
       "    <tr>\n",
       "      <th>17</th>\n",
       "      <td>OhioState</td>\n",
       "      <td>NorthDakotaSt</td>\n",
       "      <td>IowaSt</td>\n",
       "      <td>LSU</td>\n",
       "    </tr>\n",
       "    <tr>\n",
       "      <th>18</th>\n",
       "      <td>Wisconsin</td>\n",
       "      <td>FrostburgSt</td>\n",
       "      <td>LSU</td>\n",
       "      <td>SouthernCal</td>\n",
       "    </tr>\n",
       "    <tr>\n",
       "      <th>19</th>\n",
       "      <td>Reinhardt</td>\n",
       "      <td>TCU</td>\n",
       "      <td>NorthDakotaSt</td>\n",
       "      <td>Washington</td>\n",
       "    </tr>\n",
       "    <tr>\n",
       "      <th>20</th>\n",
       "      <td>StThomas</td>\n",
       "      <td>MinnSt-Mankato</td>\n",
       "      <td>SouthernCal</td>\n",
       "      <td>NorthDakotaSt</td>\n",
       "    </tr>\n",
       "    <tr>\n",
       "      <th>21</th>\n",
       "      <td>Oklahoma</td>\n",
       "      <td>CaseWesternReserve</td>\n",
       "      <td>Washington</td>\n",
       "      <td>Stanford</td>\n",
       "    </tr>\n",
       "    <tr>\n",
       "      <th>22</th>\n",
       "      <td>FrostburgSt</td>\n",
       "      <td>JohnCarroll</td>\n",
       "      <td>UW-Oshkosh</td>\n",
       "      <td>MississippiSt</td>\n",
       "    </tr>\n",
       "    <tr>\n",
       "      <th>23</th>\n",
       "      <td>Ashland</td>\n",
       "      <td>MiamiFL</td>\n",
       "      <td>Stanford</td>\n",
       "      <td>VirginiaTech</td>\n",
       "    </tr>\n",
       "    <tr>\n",
       "      <th>24</th>\n",
       "      <td>Assumption</td>\n",
       "      <td>Harding</td>\n",
       "      <td>MississippiSt</td>\n",
       "      <td>NorthCarolinaSt</td>\n",
       "    </tr>\n",
       "  </tbody>\n",
       "</table>\n",
       "</div>"
      ],
      "text/plain": [
       "                   10                 100            1000            10000\n",
       "0          MountUnion          MountUnion         Alabama          Alabama\n",
       "1   MaryHardin-Baylor             Alabama         Georgia          Georgia\n",
       "2         StFrancisIN             Georgia      MountUnion        OhioState\n",
       "3          UW-Oshkosh          UW-Oshkosh       OhioState          Clemson\n",
       "4       TAMU-Commerce           OhioState         Clemson         Oklahoma\n",
       "5         BrockportSt             Clemson        Oklahoma        Wisconsin\n",
       "6       NorthDakotaSt            Oklahoma       Wisconsin   CentralFlorida\n",
       "7             Alabama           Wisconsin  CentralFlorida           Auburn\n",
       "8         Morningside      CentralFlorida          Auburn        PennState\n",
       "9             Georgia   MaryHardin-Baylor       PennState        NotreDame\n",
       "10       JamesMadison       TAMU-Commerce       NotreDame              TCU\n",
       "11     DelawareValley              Auburn             TCU          MiamiFL\n",
       "12           Wartburg         StFrancisIN         MiamiFL       MichiganSt\n",
       "13          IndianaPA           PennState      MichiganSt       OklahomaSt\n",
       "14            Clemson         BrockportSt      OklahomaSt             Iowa\n",
       "15     MinnSt-Mankato           NotreDame            Iowa     Northwestern\n",
       "16     CentralFlorida      DelawareValley    Northwestern           IowaSt\n",
       "17          OhioState       NorthDakotaSt          IowaSt              LSU\n",
       "18          Wisconsin         FrostburgSt             LSU      SouthernCal\n",
       "19          Reinhardt                 TCU   NorthDakotaSt       Washington\n",
       "20           StThomas      MinnSt-Mankato     SouthernCal    NorthDakotaSt\n",
       "21           Oklahoma  CaseWesternReserve      Washington         Stanford\n",
       "22        FrostburgSt         JohnCarroll      UW-Oshkosh    MississippiSt\n",
       "23            Ashland             MiamiFL        Stanford     VirginiaTech\n",
       "24         Assumption             Harding   MississippiSt  NorthCarolinaSt"
      ]
     },
     "execution_count": 9,
     "metadata": {},
     "output_type": "execute_result"
    }
   ],
   "source": [
    "top_teams_name = pd.DataFrame(top_teams).T\n",
    "top_teams_name.columns = [\"10\", \"100\", \"1000\", \"10000\"]\n",
    "top_teams_name"
   ]
  },
  {
   "cell_type": "code",
   "execution_count": 97,
   "metadata": {
    "collapsed": false
   },
   "outputs": [
    {
     "name": "stdout",
     "output_type": "stream",
     "text": [
      "first eigen value's index = 3\n"
     ]
    }
   ],
   "source": [
    "# question b\n",
    "# find the first eigen vector\n",
    "index = np.argsort(v)\n",
    "print(\"first eigen value's index = {}\".format(index[-1]))\n",
    "u = p[:,index[-1]]\n",
    "omega = (u / u.sum()).reshape(1, -1)"
   ]
  },
  {
   "cell_type": "code",
   "execution_count": 95,
   "metadata": {
    "collapsed": false
   },
   "outputs": [],
   "source": [
    "y = []\n",
    "w = w0\n",
    "for i in range(10000):\n",
    "    w = w.dot(M)\n",
    "    y.append(abs(w - omega).sum())\n",
    "    "
   ]
  },
  {
   "cell_type": "code",
   "execution_count": 101,
   "metadata": {
    "collapsed": false
   },
   "outputs": [
    {
     "data": {
      "image/png": "[encoded data removed]",
      "text/plain": [
       "<matplotlib.figure.Figure at 0x7fc1d2ca50f0>"
      ]
     },
     "metadata": {},
     "output_type": "display_data"
    }
   ],
   "source": [
    "# plot steps\n",
    "plt.plot(range(10000), y)\n",
    "plt.grid(\"True\")\n",
    "plt.xlabel(\"Iteration\")\n",
    "plt.ylabel(\"l1 distance between $w_t$ and $w_\\inf$\")\n",
    "plt.title(\"Problem 1.b - Markov Chain Ranking\")\n",
    "plt.savefig(\"P1_b\", dpi = 600)\n",
    "plt.show()"
   ]
  }
 ],
 "metadata": {
  "kernelspec": {
   "display_name": "Python 3",
   "language": "python",
   "name": "python3"
  },
  "language_info": {
   "codemirror_mode": {
    "name": "ipython",
    "version": 3
   },
   "file_extension": ".py",
   "mimetype": "text/x-python",
   "name": "python",
   "nbconvert_exporter": "python",
   "pygments_lexer": "ipython3",
   "version": "3.5.2"
  }
 },
 "nbformat": 4,
 "nbformat_minor": 2
}
